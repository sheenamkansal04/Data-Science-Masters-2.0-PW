{
  "metadata": {
    "kernelspec": {
      "name": "python",
      "display_name": "Python (Pyodide)",
      "language": "python"
    },
    "language_info": {
      "codemirror_mode": {
        "name": "python",
        "version": 3
      },
      "file_extension": ".py",
      "mimetype": "text/x-python",
      "name": "python",
      "nbconvert_exporter": "python",
      "pygments_lexer": "ipython3",
      "version": "3.8"
    }
  },
  "nbformat_minor": 5,
  "nbformat": 4,
  "cells": [
    {
      "id": "2e172788-f3c0-4d25-bb71-129e424f0675",
      "cell_type": "markdown",
      "source": "Q1. What is an Exception in python? Write the difference between Exceptions and Syntax errors.",
      "metadata": {}
    },
    {
      "id": "81b81062-06be-4ef9-96ed-a9cee34ce84e",
      "cell_type": "markdown",
      "source": "An exception is an error that occurs during program execution, disrupting the normal flow of the program.\n\nException is when the syntax of the code is correct but encounters an error during the execution of the program. It occurs after at the runtime when an operation is invalid. It is type of a logic error in python\n\nSyntax errors are  when Python encounters incorrect syntax in the code. It occurs at the compiler itself. A type of parsing error in python",
      "metadata": {}
    },
    {
      "id": "ddb5803f-b0cc-4a3d-a76e-9fe062517390",
      "cell_type": "markdown",
      "source": "Q2. What happens when an exception is not handled? Explain with an example.",
      "metadata": {}
    },
    {
      "id": "6817b7bd-b2f0-4a3d-a30e-c80fda20fdb7",
      "cell_type": "markdown",
      "source": "If an exception is not handled, the program will terminate immediately at the point where the exception occurs, and Python will display an error traceback.\n\nFor eg:\na= 10/0 (Division by Zero exception)\n\nThis will display an error traceback",
      "metadata": {}
    },
    {
      "id": "cbe04e79-1b9d-4010-890d-819f1794135c",
      "cell_type": "markdown",
      "source": "Q3. Which Python statements are used to catch and handle exceptions? Explain with an example.",
      "metadata": {}
    },
    {
      "id": "d84334d4-29e2-485d-a1b7-a88f36bb39c5",
      "cell_type": "code",
      "source": "\"\"\"try and except are used to catch and handle exceptions.\"\"\"\n\ntry:\n    a= 10/0\nexcept ZeroDivsionError as e: \n    print(e)\n ",
      "metadata": {
        "trusted": true
      },
      "outputs": [],
      "execution_count": null
    },
    {
      "id": "950eb1f2-ca81-4bca-b657-6ae1f74b413a",
      "cell_type": "markdown",
      "source": "Q4. Explain with an example:\n#try and else\n#finally\n#raise",
      "metadata": {}
    },
    {
      "id": "86bb22a3-1ebb-4714-b7cd-a09f311d6ac9",
      "cell_type": "code",
      "source": "\"\"\"The else block runs only if no exception occurs in the try block.\"\"\"\ntry:\n    a = 10/5\nexcept Exception as e:\n    print(e)\nelse:\n    print(\"this will always run\")\n\n\n\"\"\"The Finally block will always execute even if there is an exception or not\"\"\"\ntry:\n    a = 10/5\nexcept Exception as e:\n    print(e)\nelse:\n    print(\"this will  run\")\nfinally:\n    print(\"this will always run\")\n\n\"\"\"raise is used to manually trigger an exception\"\"\"\nif age<0:\n    raise ZeroDivisionError",
      "metadata": {
        "trusted": true
      },
      "outputs": [],
      "execution_count": null
    },
    {
      "id": "a970dae0-e193-4b36-bac5-88002672985c",
      "cell_type": "markdown",
      "source": "Q5. What are Custom Exceptions in python? Why do we need Custom Exceptions? Explain with an example.",
      "metadata": {}
    },
    {
      "id": "9d2a9eb4-4467-4d74-8b8d-8dda9656e954",
      "cell_type": "code",
      "source": "\"\"\"Custom Exception is a new class that inherits from the Exception class. We need Custom Exceptions because it makes it more descriptive.\"\"\"\n\nclass ValidateAge(Exception):\n    def __init__(self,msg):\n        self.msg = msg\n\n\ndef validate_age(age):\n    if age <0:\n        raise ValidateAge(\"age is less\")",
      "metadata": {
        "trusted": true
      },
      "outputs": [],
      "execution_count": null
    },
    {
      "id": "fff49d17-31f2-4c03-bce4-0386ebf15521",
      "cell_type": "markdown",
      "source": "Q6. Create a custom exception class. Use this class to handle an exception.",
      "metadata": {}
    },
    {
      "id": "87779fe3-8c59-497a-8148-2993be5d85cf",
      "cell_type": "code",
      "source": "class ValidateAge(Exception):\n    def __init__(self,msg):\n        self.msg = msg\n\n\ndef validate_age(age):\n    try:\n      if age <0:\n          raise ValidateAge(\"test\")\n    except ValidateAge as e:\n        print(e)",
      "metadata": {
        "trusted": true
      },
      "outputs": [],
      "execution_count": null
    }
  ]
}