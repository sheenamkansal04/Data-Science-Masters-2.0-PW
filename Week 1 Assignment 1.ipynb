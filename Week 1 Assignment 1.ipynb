{
 "cells": [
  {
   "cell_type": "markdown",
   "id": "a9ed7b0b-8959-445a-b78c-1c88c60b3663",
   "metadata": {},
   "source": [
    "Q1: Create one variable containing following type of data:\n",
    "(i) string\n",
    "(ii) list\n",
    "(iii) float\n",
    "(iv) tuple"
   ]
  },
  {
   "cell_type": "code",
   "execution_count": 1,
   "id": "7b7664bb-732d-4943-82d1-8ec6ccac0d09",
   "metadata": {},
   "outputs": [],
   "source": [
    "a = \"sheenam\""
   ]
  },
  {
   "cell_type": "code",
   "execution_count": 2,
   "id": "3b4075c8-cc56-48a1-9a58-d63bb65293e3",
   "metadata": {},
   "outputs": [],
   "source": [
    "b = [\"kansal\", 23, True, 4.0]"
   ]
  },
  {
   "cell_type": "code",
   "execution_count": 3,
   "id": "769f6576-7d9c-4cf8-a502-321b0a13a679",
   "metadata": {},
   "outputs": [],
   "source": [
    "c = 2.0"
   ]
  },
  {
   "cell_type": "code",
   "execution_count": 4,
   "id": "dbe9920b-b06c-4067-ae1a-a9381e525453",
   "metadata": {},
   "outputs": [],
   "source": [
    "d = (1, \"abc\", True)"
   ]
  },
  {
   "cell_type": "markdown",
   "id": "ab0af3d0-f588-487a-aaed-46b497790dc9",
   "metadata": {},
   "source": [
    "Q2. Given are some following variables containing data:\n",
    "(i) var1 = ‘ ‘\n",
    "(ii) var2 = ‘[ DS , ML , Python]’\n",
    "(iii) var3 = [ ‘DS’ , ’ML’ , ‘Python’ ]\n",
    "(iv) var4 = 1."
   ]
  },
  {
   "cell_type": "markdown",
   "id": "6012fef7-9aa3-43f3-bb22-457971ddd759",
   "metadata": {},
   "source": [
    "(i) str\n",
    "(ii) str\n",
    "(iii) list\n",
    "(iv) int"
   ]
  },
  {
   "cell_type": "markdown",
   "id": "163801fc-b2ed-4efa-8ef3-6073027051ba",
   "metadata": {},
   "source": [
    "Q3. Explain the use of the following operators using an example:\n",
    "(i) /\n",
    "(ii) %\n",
    "(iii) //\n",
    "(iv) **"
   ]
  },
  {
   "cell_type": "code",
   "execution_count": 6,
   "id": "10f2ee94-edea-47af-a1da-fbdd3f8dc0a0",
   "metadata": {},
   "outputs": [
    {
     "data": {
      "text/plain": [
       "2.5"
      ]
     },
     "execution_count": 6,
     "metadata": {},
     "output_type": "execute_result"
    }
   ],
   "source": [
    "#(i) / -> This is a division operator(float) divides the first operand by second. The response is in float.\n",
    "a = 5/2\n",
    "a"
   ]
  },
  {
   "cell_type": "code",
   "execution_count": 8,
   "id": "3ff4e8b7-afb3-41bc-a13e-b73681266855",
   "metadata": {},
   "outputs": [
    {
     "data": {
      "text/plain": [
       "1"
      ]
     },
     "execution_count": 8,
     "metadata": {},
     "output_type": "execute_result"
    }
   ],
   "source": [
    "#(ii) % -> Modulus operator. Returns the remainder when the first operand is divided by second operand.\n",
    "a = 7%3\n",
    "a"
   ]
  },
  {
   "cell_type": "code",
   "execution_count": 9,
   "id": "e2844f21-19e0-482e-87ff-7f05d626f583",
   "metadata": {},
   "outputs": [
    {
     "data": {
      "text/plain": [
       "2"
      ]
     },
     "execution_count": 9,
     "metadata": {},
     "output_type": "execute_result"
    }
   ],
   "source": [
    "#(iii) // -> Division (floor). Divides the first operand by second and returns the floor value\n",
    "a = 9//4\n",
    "a"
   ]
  },
  {
   "cell_type": "code",
   "execution_count": 11,
   "id": "d92fd90a-349f-44b6-817e-7996e11b7b78",
   "metadata": {},
   "outputs": [
    {
     "data": {
      "text/plain": [
       "8"
      ]
     },
     "execution_count": 11,
     "metadata": {},
     "output_type": "execute_result"
    }
   ],
   "source": [
    "#(iv) ** -> Power(exponent). Returns first raised to power second.\n",
    "a = 2**3\n",
    "a"
   ]
  },
  {
   "cell_type": "markdown",
   "id": "f3cda19c-5033-4ba3-b603-a9114f060a57",
   "metadata": {},
   "source": [
    "Q4. Create a list of length 10 of your choice containing multiple types of data. Using for loop print the\n",
    "element and its data type."
   ]
  },
  {
   "cell_type": "code",
   "execution_count": 12,
   "id": "ebf6c0f8-7644-4c13-91c2-fbd613b6ae0a",
   "metadata": {},
   "outputs": [
    {
     "name": "stdout",
     "output_type": "stream",
     "text": [
      "1 <class 'int'>\n",
      "sheenam <class 'str'>\n",
      "2.0 <class 'float'>\n",
      "True <class 'bool'>\n",
      "5.7j <class 'complex'>\n",
      "76 <class 'int'>\n",
      "False <class 'bool'>\n",
      "kansal <class 'str'>\n",
      "6.7 <class 'float'>\n",
      "10 <class 'int'>\n"
     ]
    }
   ],
   "source": [
    "a = [1, \"sheenam\", 2.0, True, 5.7j, 76, False, \"kansal\", 6.7, 10]\n",
    "for i in a:\n",
    "    print(i, type(i))"
   ]
  },
  {
   "cell_type": "markdown",
   "id": "75402e0d-c9c4-4386-ba3a-09324550796e",
   "metadata": {},
   "source": [
    "Q5. Using a while loop, verify if the number A is purely divisible by number B and if so then how many\n",
    "times it can be divisible."
   ]
  },
  {
   "cell_type": "code",
   "execution_count": 16,
   "id": "52a3dd1f-ef7b-40bb-9d64-44ad4fa3c130",
   "metadata": {},
   "outputs": [
    {
     "name": "stdin",
     "output_type": "stream",
     "text": [
      " 24\n",
      " 6\n"
     ]
    },
    {
     "name": "stdout",
     "output_type": "stream",
     "text": [
      "1\n"
     ]
    }
   ],
   "source": [
    "a = int(input())\n",
    "b = int(input())\n",
    "i = 0\n",
    "while( a >= b and a%b == 0):\n",
    "    a = a/b\n",
    "    i+=1\n",
    "print(i)    \n",
    "    "
   ]
  },
  {
   "cell_type": "markdown",
   "id": "fc488118-c320-46df-b0b4-4b772458e558",
   "metadata": {},
   "source": [
    "Q6. Create a list containing 25 int type data. Using for loop and if-else condition print if the element is\n",
    "divisible by 3 or not.\n"
   ]
  },
  {
   "cell_type": "code",
   "execution_count": 25,
   "id": "b641df58-78e9-4b11-acb0-4954b39d1695",
   "metadata": {},
   "outputs": [
    {
     "name": "stdout",
     "output_type": "stream",
     "text": [
      "34 is not divisible by 3\n",
      "23 is not divisible by 3\n",
      "21 is divisible by 3 \n",
      "56 is not divisible by 3\n",
      "2 is not divisible by 3\n",
      "46 is not divisible by 3\n",
      "86 is not divisible by 3\n",
      "9 is divisible by 3 \n",
      "97 is not divisible by 3\n",
      "43 is not divisible by 3\n",
      "82 is not divisible by 3\n",
      "12 is divisible by 3 \n",
      "32 is not divisible by 3\n",
      "11 is not divisible by 3\n",
      "10 is not divisible by 3\n",
      "65 is not divisible by 3\n",
      "72 is divisible by 3 \n",
      "98 is not divisible by 3\n",
      "78 is divisible by 3 \n",
      "68 is not divisible by 3\n",
      "45 is divisible by 3 \n",
      "31 is not divisible by 3\n",
      "90 is divisible by 3 \n",
      "22 is not divisible by 3\n",
      "21 is divisible by 3 \n"
     ]
    }
   ],
   "source": [
    "a = [34,23,21,56,2,46,86,9,97,43,82,12,32,11,10,65,72,98,78,68,45,31,90,22,21]\n",
    "for i in a:\n",
    "    if(i%3 ==0):\n",
    "        print(f\"{i} is divisible by 3 \") \n",
    "    else:\n",
    "        print(f\"{i} is not divisible by 3\")"
   ]
  },
  {
   "cell_type": "markdown",
   "id": "ca72d824-a8ab-4f22-ba2c-7cadc286afeb",
   "metadata": {},
   "source": [
    "Q7. What do you understand about mutable and immutable data types? Give examples for both showing\n",
    "this property."
   ]
  },
  {
   "cell_type": "code",
   "execution_count": 27,
   "id": "7f1fc84e-4dcb-4f2a-adf8-a303f994a517",
   "metadata": {},
   "outputs": [
    {
     "data": {
      "text/plain": [
       "[1, True, 'sheenam', 2.0]"
      ]
     },
     "execution_count": 27,
     "metadata": {},
     "output_type": "execute_result"
    }
   ],
   "source": [
    "#Mutability means if you are able to change the data at a particular index in a collection of object. For eg list \n",
    "a = [1, True, 45, 2.0]\n",
    "a[2] = \"sheenam\"\n",
    "a"
   ]
  },
  {
   "cell_type": "code",
   "execution_count": 28,
   "id": "fb3665a3-7ae9-485f-899e-e153edaab9ca",
   "metadata": {},
   "outputs": [
    {
     "ename": "TypeError",
     "evalue": "'str' object does not support item assignment",
     "output_type": "error",
     "traceback": [
      "\u001b[0;31m---------------------------------------------------------------------------\u001b[0m",
      "\u001b[0;31mTypeError\u001b[0m                                 Traceback (most recent call last)",
      "Cell \u001b[0;32mIn[28], line 3\u001b[0m\n\u001b[1;32m      1\u001b[0m \u001b[38;5;66;03m#Immutability means when you are not able to change the data at a particular index. It gives err. for eg: strings\u001b[39;00m\n\u001b[1;32m      2\u001b[0m a \u001b[38;5;241m=\u001b[39m \u001b[38;5;124m\"\u001b[39m\u001b[38;5;124msheenam\u001b[39m\u001b[38;5;124m\"\u001b[39m\n\u001b[0;32m----> 3\u001b[0m \u001b[43ma\u001b[49m\u001b[43m[\u001b[49m\u001b[38;5;241;43m2\u001b[39;49m\u001b[43m]\u001b[49m \u001b[38;5;241m=\u001b[39m \u001b[38;5;124m\"\u001b[39m\u001b[38;5;124mu\u001b[39m\u001b[38;5;124m\"\u001b[39m\n\u001b[1;32m      4\u001b[0m a\n",
      "\u001b[0;31mTypeError\u001b[0m: 'str' object does not support item assignment"
     ]
    }
   ],
   "source": [
    "#Immutability means when you are not able to change the data at a particular index. It gives err. for eg: strings\n",
    "a = \"sheenam\"\n",
    "a[2] = \"u\"\n",
    "a"
   ]
  },
  {
   "cell_type": "code",
   "execution_count": null,
   "id": "fc91e487-be2a-40af-8e8d-fb1b9b7fc529",
   "metadata": {},
   "outputs": [],
   "source": []
  }
 ],
 "metadata": {
  "kernelspec": {
   "display_name": "Python 3 (ipykernel)",
   "language": "python",
   "name": "python3"
  },
  "language_info": {
   "codemirror_mode": {
    "name": "ipython",
    "version": 3
   },
   "file_extension": ".py",
   "mimetype": "text/x-python",
   "name": "python",
   "nbconvert_exporter": "python",
   "pygments_lexer": "ipython3",
   "version": "3.10.8"
  }
 },
 "nbformat": 4,
 "nbformat_minor": 5
}
