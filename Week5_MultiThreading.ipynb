{
  "metadata": {
    "kernelspec": {
      "name": "python",
      "display_name": "Python (Pyodide)",
      "language": "python"
    },
    "language_info": {
      "codemirror_mode": {
        "name": "python",
        "version": 3
      },
      "file_extension": ".py",
      "mimetype": "text/x-python",
      "name": "python",
      "nbconvert_exporter": "python",
      "pygments_lexer": "ipython3",
      "version": "3.8"
    }
  },
  "nbformat_minor": 5,
  "nbformat": 4,
  "cells": [
    {
      "id": "442a3020-1c7a-424f-b98d-cea490304e9e",
      "cell_type": "markdown",
      "source": "Q1. What is multithreading in python? Why is it used? Name the module used to handle threads in python.",
      "metadata": {}
    },
    {
      "id": "da214a4f-3a34-4aff-bcd1-3451f0fbc31b",
      "cell_type": "markdown",
      "source": "Multithreading in Python allows mutiple thrrads to run concurrently helping perform tasks efficiently when dealing with I/O bound operations. A thread is small unit of code that can be run independently.\nthreading is the module that is used to handle threds in python.",
      "metadata": {}
    },
    {
      "id": "e8cf90c9-fc9e-4133-9d8e-4dccf8512df3",
      "cell_type": "markdown",
      "source": "Q2. Why threading module used? Write the use of the following functions\n activeCount()\n currentThread()\n enumerate()",
      "metadata": {}
    },
    {
      "id": "bcca9da9-9712-4338-b2c3-117b0246d440",
      "cell_type": "markdown",
      "source": "threading module is used to create threads in Python.\nactiveCount(): It gives a count of all the active threads in the current program\nenumerate(): It gives a list of all the active threads in the program\ncurrentThread(): It gives the thread which is currently running",
      "metadata": {}
    },
    {
      "id": "43586340-410d-4abf-8c95-b39eb21dd8c2",
      "cell_type": "markdown",
      "source": "Q3. Explain the following functions\n( run(\n start(\n join(\n' isAlive()",
      "metadata": {}
    },
    {
      "id": "5f47c5ae-907a-400c-aff3-448986bd394d",
      "cell_type": "markdown",
      "source": "start(): It starts the execution of thread\njoin(): It makes the main Program wait until that thread is finsied\nisAlive(): it checks if the current thread is still alive\nrun(): The run() method in the Thread class defines what the thread will execute when started.",
      "metadata": {}
    },
    {
      "id": "f88bac4b-cb35-4898-85b0-eb5b86c88c67",
      "cell_type": "markdown",
      "source": "Q4. Write a python program to create two threads. Thread one must print the list of squares and thread\ntwo must print the list of cubes.",
      "metadata": {}
    },
    {
      "id": "6f1206b5-3406-44c1-a035-2c1e5e8882ba",
      "cell_type": "code",
      "source": "import threading\n\ndef print_squares(n):\n    \"\"\"Function to print squares of numbers from 1 to n.\"\"\"\n    for i in range(1, n + 1):\n        print(f\"Square of {i}: {i**2}\")\n\ndef print_cubes(n):\n    \"\"\"Function to print cubes of numbers from 1 to n.\"\"\"\n    for i in range(1, n + 1):\n        print(f\"Cube of {i}: {i**3}\")\n\n# Number range\nn = 5\n\n# Creating two threads\nt1 = threading.Thread(target=print_squares, args=(n,))\nt2 = threading.Thread(target=print_cubes, args=(n,))\n\n# Starting both threads\nt1.start()\nt2.start()\n\n# Waiting for both threads to complete\nt1.join()\nt2.join()\n\nprint(\"Both threads finished execution.\")    ",
      "metadata": {
        "trusted": true
      },
      "outputs": [],
      "execution_count": null
    },
    {
      "id": "cceb58ab-7f19-41d2-a2e1-6330fe6a933e",
      "cell_type": "markdown",
      "source": "Q5. State advantages and disadvantages of multithreading.",
      "metadata": {}
    },
    {
      "id": "50d3afb7-5e17-4976-b4b7-fea4e715f20e",
      "cell_type": "markdown",
      "source": " Advantages & Disadvantages of Multithreading in Python\n✅ Advantages of Multithreading\n1️⃣ 🚀 Faster Execution for I/O-bound tasks\n\nMultithreading is ideal for I/O-bound tasks like reading/writing files, network requests, and database operations.\nMultiple threads can run concurrently, reducing waiting time.\n2️⃣ ⚡ Efficient CPU Utilization\n\nWhen running multiple tasks that wait (e.g., downloading files), the CPU can switch between threads instead of sitting idle.\n3️⃣ 🔄 Responsiveness\n\nIn GUI applications, multithreading allows the main UI to remain responsive while other operations (e.g., file loading) run in the background.\n4️⃣ 🛠️ Better Resource Sharing\n\nThreads share the same memory space, making communication between them easier and faster than in multiprocessing.\n5️⃣ 🧵 Parallelism (Kind of)\n\nAlthough Python's Global Interpreter Lock (GIL) limits true parallel execution, multithreading can still improve performance for I/O-heavy tasks.\n❌ Disadvantages of Multithreading\n1️⃣ 🛑 Python GIL (Global Interpreter Lock)\n\nPython does not allow true parallel execution of threads because of the GIL.\nOnly one thread can execute Python bytecode at a time, making it inefficient for CPU-bound tasks.\n2️⃣ ⚠️ Race Conditions\n\nMultiple threads accessing and modifying shared data can lead to inconsistent results (e.g., two threads modifying the same variable at the same time).\nYou need thread synchronization mechanisms like locks (threading.Lock()).\n3️⃣ 🐞 Harder to Debug\n\nMultithreaded programs are more complex and debugging issues like deadlocks and race conditions can be difficult.\n4️⃣ 🔄 Context Switching Overhead\n\nThe CPU has to switch between threads frequently, which can reduce performance instead of improving it in some cases.\n5️⃣ 🛠️ Increased Complexity\n\nWriting, managing, and synchronizing multiple threads adds extra code complexity.\n",
      "metadata": {}
    },
    {
      "id": "16521680-0a83-4228-814d-bfe284537f1f",
      "cell_type": "markdown",
      "source": "Q6. Explain deadlocks and race conditions.",
      "metadata": {}
    },
    {
      "id": "62534a65-c97d-4002-b113-28e5fd602215",
      "cell_type": "markdown",
      "source": "In multithreading since it shares the resources and the data which can lead to inconsistent results like same thread modifying the same variable.\nSo to prevent data corruption, we use locks to ensure that only one thread access a shared resource at a time.",
      "metadata": {}
    },
    {
      "id": "125b7b87-09cb-4a58-b1a5-71c2cb1355a0",
      "cell_type": "code",
      "source": "",
      "metadata": {
        "trusted": true
      },
      "outputs": [],
      "execution_count": null
    }
  ]
}