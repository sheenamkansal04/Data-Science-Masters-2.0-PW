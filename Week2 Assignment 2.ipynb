{
 "cells": [
  {
   "cell_type": "markdown",
   "id": "3f0d9f78-67aa-4af3-8d71-0899cccf02b5",
   "metadata": {},
   "source": [
    "Q1. How do you comment code in Python? What are the different types of comments?"
   ]
  },
  {
   "cell_type": "code",
   "execution_count": 6,
   "id": "9a744ca9-be4c-41b5-92a0-61c10a687173",
   "metadata": {},
   "outputs": [
    {
     "data": {
      "text/plain": [
       "'This is also how we comment in python for multiple line comments'"
      ]
     },
     "execution_count": 6,
     "metadata": {},
     "output_type": "execute_result"
    }
   ],
   "source": [
    "#This is how we comment in python.\n",
    "'''This is also how we comment in python for multiple line comments'''\n",
    "\"\"\"This is also how we comment in python for multiple line comments\"\"\""
   ]
  },
  {
   "cell_type": "markdown",
   "id": "aad9ddf4-26a8-40e3-9fa7-9e132ceab67c",
   "metadata": {},
   "source": [
    "Q2. What are variables in Python? How do you declare and assign values to variables?"
   ]
  },
  {
   "cell_type": "code",
   "execution_count": 9,
   "id": "96ca5820-4e5c-4a16-954a-e5490c391a2c",
   "metadata": {},
   "outputs": [],
   "source": [
    "#A variable in a python is a symbolic name that is a reference or pointer to an object. Variable refers to the memory location that stores the value.\n",
    "a = 2\n",
    "#here a is a variable which stores the memory location of 2"
   ]
  },
  {
   "cell_type": "markdown",
   "id": "c79de193-1e05-4eea-8b86-470caa7f66de",
   "metadata": {},
   "source": [
    "Q3. How do you convert one data type to another in Python?"
   ]
  },
  {
   "cell_type": "code",
   "execution_count": 1,
   "id": "8be1619b-3871-4382-8d74-4b05c76cd9ae",
   "metadata": {},
   "outputs": [
    {
     "data": {
      "text/plain": [
       "['S', 'h', 'e', 'e', 'n', 'a', 'm']"
      ]
     },
     "execution_count": 1,
     "metadata": {},
     "output_type": "execute_result"
    }
   ],
   "source": [
    "stri = \"Sheenam\"\n",
    "list1 = list(stri)\n",
    "list1\n",
    "\n",
    "#Whenever you want to convert one data type to another you mention that data type before that variable like in above example"
   ]
  },
  {
   "cell_type": "markdown",
   "id": "fd8f91c3-7cd8-42b8-9f60-093c705706a4",
   "metadata": {},
   "source": [
    "Q4. How do you write and execute a Python script from the command line?\n",
    "\n"
   ]
  },
  {
   "cell_type": "markdown",
   "id": "6890e50a-2100-4a61-97cd-a14b362b35ed",
   "metadata": {},
   "source": [
    "You open the command line and type the word python followed by the path of your script. For eg python first_script.py\n",
    "\n"
   ]
  },
  {
   "cell_type": "markdown",
   "id": "c8acb8d7-8dba-4cfa-b55e-ec59ff6c828f",
   "metadata": {},
   "source": [
    "Q5. Given a list my_list = [1, 2, 3, 4, 5], write the code to slice the list and obtain the sub-list [2, 3]."
   ]
  },
  {
   "cell_type": "code",
   "execution_count": 3,
   "id": "e7cb2d9d-1c2b-424d-a76b-5d4c3d1caafa",
   "metadata": {},
   "outputs": [
    {
     "data": {
      "text/plain": [
       "[2, 3]"
      ]
     },
     "execution_count": 3,
     "metadata": {},
     "output_type": "execute_result"
    }
   ],
   "source": [
    "my_list = [1,2,3,4,5]\n",
    "my_list[1:3]\n"
   ]
  },
  {
   "cell_type": "markdown",
   "id": "bbe86fe1-25e9-475e-87c3-56090c5b1527",
   "metadata": {},
   "source": [
    "Q6. What is a complex number in mathematics, and how is it represented in Python?"
   ]
  },
  {
   "cell_type": "code",
   "execution_count": 8,
   "id": "050d0d44-9a77-4dc3-a5ea-f9fb5c9fd297",
   "metadata": {},
   "outputs": [
    {
     "name": "stdout",
     "output_type": "stream",
     "text": [
      "<class 'complex'>\n",
      "4.0\n",
      "7.0\n"
     ]
    }
   ],
   "source": [
    "#Complex number is a number which have both real and imaginary part. for eg: 4.7i\n",
    "#In python it is represented as\n",
    "a = 4+7j\n",
    "print(type(a))\n",
    "print(a.real)\n",
    "print(a.imag)"
   ]
  },
  {
   "cell_type": "markdown",
   "id": "1a76274c-f782-4654-90d0-4603427fe10a",
   "metadata": {},
   "source": [
    "Q7. What is the correct way to declare a variable named age and assign the value 25 to it?"
   ]
  },
  {
   "cell_type": "code",
   "execution_count": 10,
   "id": "295d8320-8dc5-4aa7-b75f-ec7ca0660052",
   "metadata": {},
   "outputs": [
    {
     "data": {
      "text/plain": [
       "25"
      ]
     },
     "execution_count": 10,
     "metadata": {},
     "output_type": "execute_result"
    }
   ],
   "source": [
    "age = 25\n",
    "age\n",
    "#we don't have to specify the datatype."
   ]
  },
  {
   "cell_type": "markdown",
   "id": "ded6e7fb-7210-43ed-87f4-b6da4f9489f8",
   "metadata": {},
   "source": [
    "Q8. Declare a variable named price and assign the value 9.99 to it. What data type does this variable\n",
    "belong to?"
   ]
  },
  {
   "cell_type": "code",
   "execution_count": 12,
   "id": "8d02821e-d504-4457-8835-bcecf2a427c5",
   "metadata": {},
   "outputs": [
    {
     "name": "stdout",
     "output_type": "stream",
     "text": [
      "<class 'float'>\n"
     ]
    }
   ],
   "source": [
    "price = 9.99\n",
    "print(type(price))"
   ]
  },
  {
   "cell_type": "markdown",
   "id": "575ac379-4cc4-40dc-9fe1-13c4babc2394",
   "metadata": {},
   "source": [
    "Q9. Create a variable named name and assign your full name to it as a string. How would you print the\n",
    "value of this variable?"
   ]
  },
  {
   "cell_type": "code",
   "execution_count": 13,
   "id": "4ffe6f17-d7dc-4439-b5fd-161bc38af9b9",
   "metadata": {},
   "outputs": [
    {
     "name": "stdout",
     "output_type": "stream",
     "text": [
      "Sheenam Kansal\n"
     ]
    }
   ],
   "source": [
    "name = \"Sheenam Kansal\"\n",
    "print(name)"
   ]
  },
  {
   "cell_type": "markdown",
   "id": "a8754484-cbdb-47d3-b673-3635b86357b8",
   "metadata": {},
   "source": [
    "Q10. Given the string \"Hello, World!\", extract the substring \"World\"."
   ]
  },
  {
   "cell_type": "code",
   "execution_count": 18,
   "id": "c3dc6ef7-0aa4-4bc9-bb65-c438a67a77da",
   "metadata": {},
   "outputs": [
    {
     "data": {
      "text/plain": [
       "'World'"
      ]
     },
     "execution_count": 18,
     "metadata": {},
     "output_type": "execute_result"
    }
   ],
   "source": [
    "stri = \"Hello, World!\"\n",
    "str1[7:12]"
   ]
  },
  {
   "cell_type": "markdown",
   "id": "b4f54d7f-8741-4724-a3d8-3d5e4f7c9f56",
   "metadata": {},
   "source": [
    "Q11. Create a variable named \"is_student\" and assign it a boolean value indicating whether you are\n",
    "currently a student or not."
   ]
  },
  {
   "cell_type": "code",
   "execution_count": 34,
   "id": "ab66dcc7-73d5-435b-9ac8-c21503620d3a",
   "metadata": {},
   "outputs": [
    {
     "name": "stdin",
     "output_type": "stream",
     "text": [
      " sheenam\n"
     ]
    },
    {
     "name": "stdout",
     "output_type": "stream",
     "text": [
      "Wrong Data\n"
     ]
    }
   ],
   "source": [
    "is_student = input()\n",
    "\n",
    "if is_student == \"True\":\n",
    "    print(\"You are a student\")\n",
    "elif is_student == \"False\":\n",
    "    print(\"You are not a student\")\n",
    "else:\n",
    "    print(\"Wrong Data\")"
   ]
  },
  {
   "cell_type": "code",
   "execution_count": null,
   "id": "20e3da2e-1e7a-40a7-a091-da5d899accfa",
   "metadata": {},
   "outputs": [],
   "source": []
  }
 ],
 "metadata": {
  "kernelspec": {
   "display_name": "Python 3 (ipykernel)",
   "language": "python",
   "name": "python3"
  },
  "language_info": {
   "codemirror_mode": {
    "name": "ipython",
    "version": 3
   },
   "file_extension": ".py",
   "mimetype": "text/x-python",
   "name": "python",
   "nbconvert_exporter": "python",
   "pygments_lexer": "ipython3",
   "version": "3.10.8"
  }
 },
 "nbformat": 4,
 "nbformat_minor": 5
}
