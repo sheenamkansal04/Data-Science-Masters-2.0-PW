{
  "metadata": {
    "kernelspec": {
      "name": "python",
      "display_name": "Python (Pyodide)",
      "language": "python"
    },
    "language_info": {
      "codemirror_mode": {
        "name": "python",
        "version": 3
      },
      "file_extension": ".py",
      "mimetype": "text/x-python",
      "name": "python",
      "nbconvert_exporter": "python",
      "pygments_lexer": "ipython3",
      "version": "3.8"
    }
  },
  "nbformat_minor": 5,
  "nbformat": 4,
  "cells": [
    {
      "id": "23857eb7-c29e-4c7e-ade8-5e2158566334",
      "cell_type": "markdown",
      "source": "Q1. Explain why we have to use the Exception class while creating a Custom Exception.",
      "metadata": {}
    },
    {
      "id": "716cf973-7221-4e82-8fff-716bcffbe10d",
      "cell_type": "markdown",
      "source": "When creating a custom exception in Python, it is best practice to inherit from the built-in Exception class. This ensures that your custom exception behaves like standard Python exceptions.\n1. Inherits Exception Handling Features\n2. Compatibility with try-except\n3. Access to Exception Properties & Methods",
      "metadata": {}
    },
    {
      "id": "ddfcf13e-ce5e-47c8-870e-528642b8aa93",
      "cell_type": "markdown",
      "source": "Q2. Write a python program to print Python Exception Hierarchy.",
      "metadata": {}
    },
    {
      "id": "01f680e8-c926-4a4f-85e1-e56bfdb59390",
      "cell_type": "code",
      "source": "import inspect\n\ndef print_exception_hierarchy(base_class, level=0):\n    \"\"\"Recursively prints the Python Exception Hierarchy.\"\"\"\n    print(\" \" * (level * 4) + f\"{base_class.__name__}\")  # Indentation for hierarchy\n    for subclass in base_class.__subclasses__():\n        print_exception_hierarchy(subclass, level + 1)  # Recursive call\n\n# Start from BaseException\nprint(\"Python Exception Hierarchy:\")\nprint_exception_hierarchy(BaseException)",
      "metadata": {
        "trusted": true
      },
      "outputs": [],
      "execution_count": null
    },
    {
      "id": "b5783c99-427d-4a33-b920-f29b58ce2203",
      "cell_type": "markdown",
      "source": "Q3. What errors are defined in the ArithmeticError class? Explain any two with an example.",
      "metadata": {}
    },
    {
      "id": "f463ba66-293c-4b03-8e5e-585dc07d3b97",
      "cell_type": "code",
      "source": "\"\"\"ZeroDivisionError\"\"\"\ntry:\n    a= 10/0\nexcept ZeroDivisionError:\n    print(\"Zero Error\")\n\n\n\"\"\"Overflow Error\"\"\"  \nimport math\n\ntry:\n    result = math.exp(1000)  # Exponentially large number\nexcept OverflowError:\n    print(\"OverflowError: Number too large to handle!\")\n",
      "metadata": {
        "trusted": true
      },
      "outputs": [
        {
          "name": "stdout",
          "output_type": "stream",
          "text": "Zero Error\nOverflowError: Number too large to handle!\n"
        }
      ],
      "execution_count": 2
    },
    {
      "id": "a2a469ec-b923-474f-bf9e-ffe4b46579df",
      "cell_type": "markdown",
      "source": "Q4. Why LookupError class is used? Explain with an example KeyError and IndexError.",
      "metadata": {}
    },
    {
      "id": "3e70dd0a-3509-4e20-b1f8-2f55373b6566",
      "cell_type": "code",
      "source": "\"\"\"The LookupError class is a built-in Python exception that acts as a base class for exceptions related to invalid lookups in sequences (like lists, tuples) and mappings (like dictionaries).\n\nIt is never raised directly but serves as a parent class for KeyError and IndexError, which are commonly encountered lookup errors.\"\"\"\n\"\"\"Key error exist when you try to access non existant key in dictionary\"\"\"\ntry:\n    my_dict = {\"name\": \"Alice\", \"age\": 25}\n    print(my_dict[\"address\"])  # 'address' key does not exist\nexcept KeyError as e:\n    print(f\"KeyError: The key '{e}' does not exist in the dictionary.\")\n\n\"\"\"Index error exist when you try to access a non existant index in list or tuple\"\"\"\ntry:\n    my_list = [10, 20, 30]\n    print(my_list[5])  # Index 5 is out of range\nexcept IndexError as e:\n    print(f\"IndexError: {e}\")\n    ",
      "metadata": {
        "trusted": true
      },
      "outputs": [],
      "execution_count": null
    },
    {
      "id": "0b995dce-ff90-4cfc-99e1-2169ee3c3f4c",
      "cell_type": "markdown",
      "source": "Q5. Explain ImportError. What is ModuleNotFoundError?",
      "metadata": {}
    },
    {
      "id": "50469054-686b-49f0-93b4-375fb63d9088",
      "cell_type": "markdown",
      "source": "Import error is raised when there is a problem importing a python module. The module exists, but it is not getting imported due to some reasons.\n\nModuleNotFoundError is raised when you are trying to access a non existent module",
      "metadata": {}
    },
    {
      "id": "557cbc79-b7ad-4b1a-b8f6-222390c3afcb",
      "cell_type": "markdown",
      "source": "Q6. List down some best practices for exception handling in python.",
      "metadata": {}
    },
    {
      "id": "39a1fbf2-3447-41ab-896f-310f6c0f9057",
      "cell_type": "markdown",
      "source": "1.  Use Specific Exceptions Instead of a Generic except\n2.  Use else to Keep try Block Clean\n3.  Always Use finally for Cleanup\n4.  Log Exceptions Instead of Printing\n5.  void Using raise Without an Exception",
      "metadata": {}
    }
  ]
}