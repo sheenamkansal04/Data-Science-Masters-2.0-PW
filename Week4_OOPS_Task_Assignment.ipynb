{
  "metadata": {
    "kernelspec": {
      "name": "python",
      "display_name": "Python (Pyodide)",
      "language": "python"
    },
    "language_info": {
      "codemirror_mode": {
        "name": "python",
        "version": 3
      },
      "file_extension": ".py",
      "mimetype": "text/x-python",
      "name": "python",
      "nbconvert_exporter": "python",
      "pygments_lexer": "ipython3",
      "version": "3.8"
    }
  },
  "nbformat_minor": 5,
  "nbformat": 4,
  "cells": [
    {
      "id": "f3d8c65a-598c-4242-b7f9-3fe65fc3a74d",
      "cell_type": "markdown",
      "source": "Q1, Create a vehicle class with an init method having instance variables as name_of_vehicle, max_speed\nand average_of_vehicle.",
      "metadata": {}
    },
    {
      "id": "68044cd5-69b2-457f-84be-c86fb45bd5fb",
      "cell_type": "code",
      "source": "class Vehicle:\n    def __init__(self,name_of_vehicle,max_speed,average_of_vehicle):\n        self.name_of_vehicle = name_of_vehicle\n        self.max_speed = max_speed\n        self.average_of_vehicle = average_of_vehicle",
      "metadata": {
        "trusted": true
      },
      "outputs": [],
      "execution_count": null
    },
    {
      "id": "08f01561-9d03-41ae-98d3-e4ef4960bbb3",
      "cell_type": "markdown",
      "source": "Q2. Create a child class car from the vehicle class created in Que 1, which will inherit the vehicle class.\nCreate a method named seating_capacity which takes capacity as an argument and returns the name of\nthe vehicle and its seating capacity.",
      "metadata": {}
    },
    {
      "id": "736a013d-7b4c-41dc-af00-596cbd73bc98",
      "cell_type": "code",
      "source": "class Vehicle:\n    def __init__(self,name_of_vehicle,max_speed,average_of_vehicle):\n        self.name_of_vehicle = name_of_vehicle\n        self.max_speed = max_speed\n        self.average_of_vehicle = average_of_vehicle\n\n        \nclass Car(Vehicle):\n    def seating_capacity(self,capacity):\n        return self.name_of_vehicle,capacity",
      "metadata": {
        "trusted": true
      },
      "outputs": [],
      "execution_count": null
    },
    {
      "id": "a6fd0096-ed89-4421-838a-0c882813dfa2",
      "cell_type": "markdown",
      "source": "Q3. What is multiple inheritance? Write a python code to demonstrate multiple inheritance.",
      "metadata": {}
    },
    {
      "id": "94a1ada0-230d-40f5-9aa4-7b0e18a1a9cf",
      "cell_type": "markdown",
      "source": "Multiple Inherutance is when a class inherits from multiple parent classes",
      "metadata": {}
    },
    {
      "id": "939571bc-dd46-4c22-9577-db777783a633",
      "cell_type": "code",
      "source": "class Dog:\n    def __init__(self, name):\n        self.name = name\n\nclass Cat:\n    def __init__(self, age):\n        self.age = age\n\nclass Test(Dog,Cat):\n    def __init__(self, test):\n        self.test ",
      "metadata": {
        "trusted": true
      },
      "outputs": [],
      "execution_count": null
    },
    {
      "id": "d58d42f2-ea3e-4c5e-8d10-a384283fbc55",
      "cell_type": "markdown",
      "source": "Q4. What are getter and setter in python? Create a class and create a getter and a setter method in this\nclass.",
      "metadata": {}
    },
    {
      "id": "17ba7ba3-528c-4b18-b155-a561115b6a5d",
      "cell_type": "markdown",
      "source": "Getter and setter are property decorators in python.",
      "metadata": {}
    },
    {
      "id": "2a5b4712-d994-4057-9447-2684932014f4",
      "cell_type": "code",
      "source": "class Test:\n    def __init__(self, test):\n        self._test = test\n\n    @property\n    def checking(self):\n        return self._test\n\n    @checking.setter\n    def checking_set(self, new_test):\n        self._test = new_test\n\na = Person(\"Sheenam\")\nprint(a.checking)\na.checking_Set = \"Kansal\"",
      "metadata": {
        "trusted": true
      },
      "outputs": [],
      "execution_count": null
    },
    {
      "id": "a09c6116-0629-48d5-bc3c-0103c172d61e",
      "cell_type": "markdown",
      "source": "Q5.What is method overriding in python? Write a python code to demonstrate method overriding.",
      "metadata": {}
    },
    {
      "id": "b89b8cd1-349c-4b82-9258-a60863f4d554",
      "cell_type": "markdown",
      "source": "Method Overriding occurs when a child class provides a new implementation for a method that is already defined in the parent class.",
      "metadata": {}
    },
    {
      "id": "a45159ba-cc7d-4057-b5aa-cbdf97bc1d94",
      "cell_type": "code",
      "source": "class Vehicle:\n    def __init__(self, vehicle_name):\n        self.vehicle_name = vehicle_name\n\n    def vehicle_test(self):\n        return self.vehicle_name\n\nclass Car:\n    def __init__(self, car_name):\n        self.car_name = car_name\n\n    def vehicle_test(self):\n        return self.car_name",
      "metadata": {
        "trusted": true
      },
      "outputs": [],
      "execution_count": null
    }
  ]
}