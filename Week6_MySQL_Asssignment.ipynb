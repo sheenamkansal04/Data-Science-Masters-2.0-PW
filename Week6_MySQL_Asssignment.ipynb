{
  "metadata": {
    "kernelspec": {
      "name": "python",
      "display_name": "Python (Pyodide)",
      "language": "python"
    },
    "language_info": {
      "codemirror_mode": {
        "name": "python",
        "version": 3
      },
      "file_extension": ".py",
      "mimetype": "text/x-python",
      "name": "python",
      "nbconvert_exporter": "python",
      "pygments_lexer": "ipython3",
      "version": "3.8"
    }
  },
  "nbformat_minor": 5,
  "nbformat": 4,
  "cells": [
    {
      "id": "7b29f25d-8c2d-4f2d-8f02-c013cf79a59e",
      "cell_type": "markdown",
      "source": "Q1. What is a database? Differentiate between SQL and NoSQL databases.",
      "metadata": {}
    },
    {
      "id": "8d2cd683-c6f4-4c81-8e97-facf47a11a03",
      "cell_type": "markdown",
      "source": "A database is an organized collection of data that allows users to store, retrieve, manage, and manipulate information efficiently. It ensures data consistency, security, and easy access. SQL database(Relational Database) is a structred database that stores the data in a structured format like tables and rows and columns. The data follows the strict schema. It uses the database management system like MySql, PostgreSQL.\nNoSQL database(Non Relattional Database) is database that stores the data in JSON like documents instead of traditional tables. It doesn't have any scehma. It uses the database management system like MongoDB",
      "metadata": {}
    },
    {
      "id": "b5ac8f1c-b189-425d-ad97-cc82b2592b3d",
      "cell_type": "markdown",
      "source": "Q2. What is DDL? Explain why CREATE, DROP, ALTER, and TRUNCATE are used with an example.",
      "metadata": {}
    },
    {
      "id": "d3f96e07-bf44-4625-b81d-e13161924965",
      "cell_type": "markdown",
      "source": "DDL (Data Definition Language) is a category of SQL commands used to define, modify, and manage database structures such as tables, schemas, indexes, and constraints.\n\nCREATE is used to create the Database or table\neg: CREATE TABLE students (n1 VARCHAR(40), a1 INT);\n\nDROP is used to delete the table\neg: DROP TABLE students;\n\nALERT is used to modify the tables (add/delete columns and change the datatype of columns)\nALTER TABLE students ADD age INT;\n\nTRUNCATE is used to remove all the records from the table but keep its structure\nTRUNCATE TABLE students;",
      "metadata": {}
    },
    {
      "id": "ebb9435c-73d2-4628-b326-a433a8ea052e",
      "cell_type": "markdown",
      "source": "Q3. What is DML? Explain INSERT, UPDATE, and DELETE with an example.",
      "metadata": {}
    },
    {
      "id": "7bc0ebe4-15dc-4e53-9608-130714fa7c1a",
      "cell_type": "markdown",
      "source": "DML(Data Manipulation Language) is a category of SQL commands that modifies and delete the data in the database.\n\nINSERT is used to insert new data in the table.\neg: INSERT into students (n1,a1,age) VALUES (\"sheenam\", 123, 43);\n\nUPDATE IS used to update the existing data in the table\neg: UPDATE students SET age = 21 where n1 = \"sheenam\";\n\nDELETE is used to delete the data in the table\neg:DELETE FROM students where age = 21;",
      "metadata": {}
    },
    {
      "id": "76dffc48-cd46-4ef7-aac4-fdb81ff1ba8a",
      "cell_type": "markdown",
      "source": "Q4. What is DQL? Explain SELECT with an example.",
      "metadata": {}
    },
    {
      "id": "807a0ddb-d61d-4fff-9774-d476b19552b2",
      "cell_type": "markdown",
      "source": "DQL(Data Query Language) is a category of SQL commands that is used to retrieve the data from the database.\nThe SELECT statement is used to query data from a database table.\n\nSELECT is used to select the columns from the table on the specific conditions\n\neg: SELECT * FROM students;",
      "metadata": {}
    },
    {
      "id": "0a0bf62b-0a0a-4c21-b5cb-a5246e0b9010",
      "cell_type": "markdown",
      "source": "Q5. Explain Primary Key and Foreign Key.",
      "metadata": {}
    },
    {
      "id": "610b1e21-092d-4de2-89fe-2c25047674db",
      "cell_type": "markdown",
      "source": "A Primary Key (PK) is a column (or a set of columns) that uniquely identifies each row in a table.\nA Foreign Key (FK) is a column that creates a relationship between two tables by referring to the Primary Key of another table.",
      "metadata": {}
    },
    {
      "id": "9b5ca3be-8d9b-444e-ab50-a4c025930c8e",
      "cell_type": "markdown",
      "source": "Q6. Write a python code to connect MySQL to python. Explain the cursor() and execute() method.",
      "metadata": {}
    },
    {
      "id": "0953fbe5-0d3a-43b3-a8cf-4a8ab256e3fa",
      "cell_type": "code",
      "source": "import mysql.connector\nmydb = mysql.connector.Connect(host= \"localhost\", user= \"user\", password =\"password\")\nmycursor = mydb.Cursor()\nmycursor.execute(\"CREATE DATABASE school\")\nmycursor.close()\nmydb.close()\n\n#cursor() creates a database cursor to interact with MySQL.\n#execute() runs SQL queries like CREATE, INSERT, SELECT etc.",
      "metadata": {
        "trusted": true
      },
      "outputs": [],
      "execution_count": null
    },
    {
      "id": "0e094952-9e12-4660-9a25-a7368ffa8c51",
      "cell_type": "code",
      "source": "Q7. Give the order of execution of SQL clauses in an SQL query.",
      "metadata": {
        "trusted": true
      },
      "outputs": [],
      "execution_count": null
    },
    {
      "id": "d236556f-f3f2-4ff7-83c3-dd6599118c8c",
      "cell_type": "code",
      "source": "FROM\tSpecifies the table(s) to retrieve data from\n2️⃣\tJOIN\tCombines records from multiple tables\n3️⃣\tWHERE\tFilters records based on conditions\n4️⃣\tGROUP BY\tGroups records based on specified column(s)\n5️⃣\tHAVING\tFilters grouped records\n6️⃣\tSELECT\tSelects specific columns to display\n7️⃣\tDISTINCT\tRemoves duplicate rows\n8️⃣\tORDER BY\tSorts the result set\n9️⃣\tLIMIT / OFFSET",
      "metadata": {
        "trusted": true
      },
      "outputs": [],
      "execution_count": null
    }
  ]
}