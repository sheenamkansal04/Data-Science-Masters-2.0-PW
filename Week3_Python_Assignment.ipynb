{
  "metadata": {
    "kernelspec": {
      "name": "python",
      "display_name": "Python (Pyodide)",
      "language": "python"
    },
    "language_info": {
      "codemirror_mode": {
        "name": "python",
        "version": 3
      },
      "file_extension": ".py",
      "mimetype": "text/x-python",
      "name": "python",
      "nbconvert_exporter": "python",
      "pygments_lexer": "ipython3",
      "version": "3.8"
    }
  },
  "nbformat_minor": 5,
  "nbformat": 4,
  "cells": [
    {
      "id": "17a6e014-724f-492f-b247-60a261717169",
      "cell_type": "markdown",
      "source": "Q1. Create a python program to sort the given list of tuples based on integer value using a\nlambda function.\n[('Sachin Tendulkar', 34357), ('Ricky Ponting', 27483), ('Jack Kallis', 25534), ('Virat Kohli', 24936)]",
      "metadata": {}
    },
    {
      "id": "5fc454b0-9066-4b05-8de4-551f439126de",
      "cell_type": "code",
      "source": "players = [('Sachin Tendulkar', 34357), ('Ricky Ponting', 27483), ('Jack Kallis', 25534), ('Virat Kohli', 24936)]\na = sorted( players,key = lambda x: x[1])\nprint(a)",
      "metadata": {
        "trusted": true
      },
      "outputs": [],
      "execution_count": null
    },
    {
      "id": "dcc23cec-08e5-465a-bf95-7580d5942a49",
      "cell_type": "markdown",
      "source": "Q2. Write a Python Program to find the squares of all the numbers in the given list of integers using\nlambda and map functions.\n[1, 2, 3, 4, 5, 6, 7, 8, 9, 10]",
      "metadata": {}
    },
    {
      "id": "6d4f3286-28a2-4865-9f37-cd8cad2a005a",
      "cell_type": "code",
      "source": "list1 = [1, 2, 3, 4, 5, 6, 7, 8, 9, 10]\n\na = list(map(lambda x: x**2, list1))\nprint(a)",
      "metadata": {
        "trusted": true
      },
      "outputs": [],
      "execution_count": null
    },
    {
      "id": "5193bf33-8057-45c0-bf15-3a007effbb1c",
      "cell_type": "markdown",
      "source": "Q3. Write a python program to convert the given list of integers into a tuple of strings. Use map and\nlambda functions\nGiven String: [1, 2, 3, 4, 5, 6, 7, 8, 9, 10]\nExpected output: ('1', '2', '3', '4', '5', '6', '7', '8', '9', '10')",
      "metadata": {}
    },
    {
      "id": "517210a6-3261-44e8-81d0-bbef87e3f6cd",
      "cell_type": "code",
      "source": "list1 = [1, 2, 3, 4, 5, 6, 7, 8, 9, 10]\na= list(map(lambda x: str(x),list1) )\nprint(a)",
      "metadata": {
        "trusted": true
      },
      "outputs": [],
      "execution_count": null
    },
    {
      "id": "ac13c10e-9b79-4dc3-8428-47487913efcd",
      "cell_type": "markdown",
      "source": "Q4. Write a python program using reduce function to compute the product of a list containing numbers\nfrom 1 to 25.",
      "metadata": {}
    },
    {
      "id": "65bb88f7-650b-436a-b518-3bb05ddd2df1",
      "cell_type": "code",
      "source": "list1 = [1,2,3,4,5,6,7,8,9,10,11,12,13,14,15,16,17,18,19,20,21,22,23,24,25]\na = reduce(lambda x,y:x*y, list1)\nprint(a)",
      "metadata": {
        "trusted": true
      },
      "outputs": [],
      "execution_count": null
    },
    {
      "id": "ad19f1e3-019e-42d0-a90c-41120e096bd1",
      "cell_type": "markdown",
      "source": "Q5. Write a python program to filter the numbers in a given list that are divisible by 2 and 3 using the\nfilter function.\n[2, 3, 6, 9, 27, 60, 90, 120, 55, 46]",
      "metadata": {}
    },
    {
      "id": "e7148839-4152-42df-a08b-d1fe499f4a14",
      "cell_type": "code",
      "source": "list1 = [2, 3, 6, 9, 27, 60, 90, 120, 55, 46]\na = list(filter(lambda x: x%2 ==0 and x%3 ==0, list1))\n\nprint(a)",
      "metadata": {
        "trusted": true
      },
      "outputs": [],
      "execution_count": null
    },
    {
      "id": "ef1538b4-6d36-4be3-95fd-310f770cfa6e",
      "cell_type": "markdown",
      "source": "Q6. Write a python program to find palindromes in the given list of strings using lambda and filter\nfunction.\n['python', 'php', 'aba', 'radar', 'level']",
      "metadata": {}
    },
    {
      "id": "25105d57-0908-4256-980a-3fb4615f4554",
      "cell_type": "code",
      "source": "list1 = ['python', 'php', 'aba', 'radar', 'level']\na = list(filter(lambda x: x == x[::-1],list1))\nprint(a)",
      "metadata": {
        "trusted": true
      },
      "outputs": [
        {
          "name": "stdout",
          "output_type": "stream",
          "text": "['php', 'aba', 'radar', 'level']\n"
        }
      ],
      "execution_count": 2
    },
    {
      "id": "a300ef01-b854-4315-b0f1-1151983db2b5",
      "cell_type": "code",
      "source": "",
      "metadata": {
        "trusted": true
      },
      "outputs": [],
      "execution_count": null
    }
  ]
}