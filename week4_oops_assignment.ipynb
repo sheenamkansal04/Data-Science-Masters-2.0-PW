{
  "metadata": {
    "kernelspec": {
      "name": "python",
      "display_name": "Python (Pyodide)",
      "language": "python"
    },
    "language_info": {
      "codemirror_mode": {
        "name": "python",
        "version": 3
      },
      "file_extension": ".py",
      "mimetype": "text/x-python",
      "name": "python",
      "nbconvert_exporter": "python",
      "pygments_lexer": "ipython3",
      "version": "3.8"
    }
  },
  "nbformat_minor": 5,
  "nbformat": 4,
  "cells": [
    {
      "id": "586da6f6-a086-4f0e-bf6c-a03b4045788a",
      "cell_type": "markdown",
      "source": "Q1. Explain Class and Object with respect to Object-Oriented Programming. Give a suitable example.",
      "metadata": {}
    },
    {
      "id": "e1d943a2-c08b-4dfe-9528-0d04de12328e",
      "cell_type": "raw",
      "source": "Class is like a blueprint of the house where like the house has different colors it has different variables for storing the data. And methods for different functions of that class.\n\nObject is an instance of a class. A class is the template for an object. It inherits all the variables and methods from the class.\n\nExample:\n\nclass Test:\n   def __init__(self, name,email):\n        self.name = name\n        self.email = email\n\n   def validate_name(self,name):\n        self.name == \"ABC\"\n        return True\n\na = Test(\"DEF\")\n    ",
      "metadata": {}
    },
    {
      "id": "6da489bb-60da-4396-b154-caf5d23b6981",
      "cell_type": "markdown",
      "source": "Q2. Name the four pillars of OOPs.",
      "metadata": {}
    },
    {
      "id": "65a15dd3-87a3-42f9-850e-0bc0ae7ce564",
      "cell_type": "raw",
      "source": "Four Pillars of OOPs are:\n1. Inheritance: Inherirtance allows a class (child class) to inherit the properties and methods of another class (parent class).\n2. Polymorphism: Polymorphism allows methods to have the same name but behave differently on the object's context.\n3. Encapsulation: Encapsulation is bundling of data and its methods within a class restricting access to some components to control interactions.\n4. Abstraction: Abstraction hides the internal application details while exposing only the necessary functionality.\n   ",
      "metadata": {}
    },
    {
      "id": "f8288ee2-be6a-4380-a994-3c955597fc3c",
      "cell_type": "markdown",
      "source": "Q3. Explain why the __init__() function is used. Give a suitable example.",
      "metadata": {}
    },
    {
      "id": "c12fd700-32d3-434b-8e87-93c3050b929f",
      "cell_type": "raw",
      "source": "__init__() is constructor in Python, automatically called when a new object is created. It initialised the attributes of class.\n\nexample: \nclass Dog:\n    def __init__(self, name, age):\n        self.name = name\n        self.age = age\n\ndog1 = Dog(\"Buddy\", 3)\nprint(dog1.name)  ",
      "metadata": {}
    },
    {
      "id": "f7299026-9e42-46c8-addf-e5250b4d546e",
      "cell_type": "markdown",
      "source": "Q4. Why self is used in OOPs?",
      "metadata": {}
    },
    {
      "id": "3ccdd5b8-fd73-4a88-af42-be65a0823a34",
      "cell_type": "raw",
      "source": "Self is the reference to the current instance of the class. It allows us to access the attributes and methods of an object.",
      "metadata": {}
    },
    {
      "id": "32b38b63-cec1-4997-ab75-a2fbc796b960",
      "cell_type": "markdown",
      "source": "Q5. What is inheritance? Give an example for each type of inheritance.",
      "metadata": {}
    },
    {
      "id": "a80600d5-2017-4645-bb73-77ae9a663473",
      "cell_type": "raw",
      "source": "Inheritance allows a class(child class) to inherit the properties and methods of another class (parent class).\n\n\n1. Single inheritance: A child class inherits from a single parent class\n   Example:\n   \n   class Dog:\n       def __init__(self, name):\n            self.name = name\n\n        def display_name(self):\n            print(f\"Dog's Name: {self.name}\")\n\n    class Labrador(Dog):  # Single Inheritance\n       def sound(self):\n            print(\"Labrador woofs\")\n\n\n2. Multilevel Inheritance: A child class inherits from a parent class, which in turn inherits from another class.\n   Example:\n\n class Dog:\n     def __init__(self, name):\n        self.name = name\n\n    def display_name(self):\n        print(f\"Dog's Name: {self.name}\")\n\nclass Labrador(Dog):  # Single Inheritance\n    def sound(self):\n        print(\"Labrador woofs\")\n\nclass GuardDog(Labrador):\n    def sound(self):\n        print(\"GuardDog\")\n\n\n\n3. Mutilple Inheritance: A child class inherits from more than one parent class.\n\nclass Dog:\n     def __init__(self, name):\n        self.name = name\n\n    def display_name(self):\n        print(f\"Dog's Name: {self.name}\")\n\nclass Labrador(Dog):  # Single Inheritance\n    def sound(self):\n        print(\"Labrador woofs\")\n\nclass GoldenRetriever(Dog, Labrador):  \n    def sound(self):\n        print(\"Golden Retriever Barks\")        \n   ",
      "metadata": {}
    },
    {
      "id": "2b1d58a4-7074-4334-b9c3-492cb2dd6e7f",
      "cell_type": "code",
      "source": "",
      "metadata": {
        "trusted": true
      },
      "outputs": [],
      "execution_count": null
    }
  ]
}