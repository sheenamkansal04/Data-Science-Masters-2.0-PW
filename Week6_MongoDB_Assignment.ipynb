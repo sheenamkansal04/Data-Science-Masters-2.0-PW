{
  "metadata": {
    "kernelspec": {
      "name": "python",
      "display_name": "Python (Pyodide)",
      "language": "python"
    },
    "language_info": {
      "codemirror_mode": {
        "name": "python",
        "version": 3
      },
      "file_extension": ".py",
      "mimetype": "text/x-python",
      "name": "python",
      "nbconvert_exporter": "python",
      "pygments_lexer": "ipython3",
      "version": "3.8"
    }
  },
  "nbformat_minor": 5,
  "nbformat": 4,
  "cells": [
    {
      "id": "4279bf56-2808-4dd6-a0fd-ff72a5d34142",
      "cell_type": "markdown",
      "source": "Q1. What is MongoDB? Explain non-relational databases in short. In which scenarios it is preferred to use\nMongoDB over SQL databases?",
      "metadata": {}
    },
    {
      "id": "71a0e711-000a-4556-a9d1-ae5f920ba52e",
      "cell_type": "markdown",
      "source": "MongoDB is a NoSQL Database Management system that stores data in JSON like documents instead of traditional framework like tables, rows etc.\nA non-relational database (NoSQL) is a database that does not store data in a tabular format like relational databases (SQL). Instead, it uses flexible data models such as:\nDocument-based (e.g., MongoDB)\nKey-Value stores (e.g., Redis)\nWe can use MongoDB over SQL when there is a big data, social media apps, e commerce sites,chat applications",
      "metadata": {}
    },
    {
      "id": "3f51cfe6-ecc8-4bd9-9bdf-c2ecfc6160f6",
      "cell_type": "markdown",
      "source": "Q2. State and Explain the features of MongoDB.",
      "metadata": {}
    },
    {
      "id": "f6bcb6e8-4cc1-4fea-8823-2b6ce0138f1d",
      "cell_type": "markdown",
      "source": "Feature\tDescription\nDocument-Oriented\tStores data in BSON (JSON-like) documents\nSchema-less\tFlexible structure, no fixed schema\nHorizontal Scaling\tUses sharding to handle large data\nHigh Performance\tFast read/write with indexing\nReplication\tEnsures data availability using replica sets\nAggregation Framework\tPerforms complex queries like SQL’s GROUP BY\nIndexing\tImproves query speed\nACID Transactions\tSupports multi-document transactions\nJSON Query Language\tUses JavaScript-like queries\nCloud & Big Data Integration\tWorks with cloud and big data tools",
      "metadata": {}
    },
    {
      "id": "5e0d6b0f-cb94-483c-b7fa-d3ae54e5da83",
      "cell_type": "markdown",
      "source": "Q3. Write a code to connect MongoDB to Python. Also, create a database and a collection in MongoDB.",
      "metadata": {}
    },
    {
      "id": "589b6143-7e7e-4fd4-a2a6-48fcf84521a9",
      "cell_type": "code",
      "source": "import pymongo\nclient  = pymongo.MongoClient(\"mongodb://localhost\")\ndb = client[\"school\"]\ncoll_create = db[\"students\"]\ndb.close()",
      "metadata": {
        "trusted": true
      },
      "outputs": [],
      "execution_count": null
    },
    {
      "id": "7a032457-6494-4f14-90e4-e8d23cbc32ee",
      "cell_type": "markdown",
      "source": "Q4. Using the database and the collection created in question number 3, write a code to insert one record,\nand insert many records. Use the find() and find_one() methods to print the inserted record.",
      "metadata": {}
    },
    {
      "id": "5e4d4b75-41fc-4c15-b6ad-cea3e8c87826",
      "cell_type": "code",
      "source": "data1 = {\"id\": 155, \"name\": \"Sheenam\"}\ncoll_create.insert_one(data1)\n\ndata2 = [{\"id\": 134, \"name\": \"Kansal\"},{\"id\": 198, \"name\": \"yhgs\"}]\ncoll_create.insert_many(data2)\n\ncoll_create.find({\"name\": \"Sheenam\"})\ncoll_create.find_one()",
      "metadata": {
        "trusted": true
      },
      "outputs": [],
      "execution_count": null
    },
    {
      "id": "cc2d58d8-f0e6-4547-b251-660b106595a8",
      "cell_type": "markdown",
      "source": "Q5. Explain how you can use the find() method to query the MongoDB database. Write a simple code to\ndemonstrate this.",
      "metadata": {}
    },
    {
      "id": "079e7445-8c3b-4c80-96aa-192a24a7e798",
      "cell_type": "code",
      "source": "\"\"\"You can mention your condition in an object  to find that specific data\"\"\"\ndata1 = {\"id\": 155, \"name\": \"Sheenam\"}\ncoll_create.insert_one(data1)\n\ndata2 = [{\"id\": 134, \"name\": \"Kansal\"},{\"id\": 198, \"name\": \"yhgs\"}]\ncoll_create.insert_many(data2)\n\ncoll_create.find({\"name\": \"Sheenam\"})\ncoll_create.find_one({\"name\": \"Sheenam\"})",
      "metadata": {
        "trusted": true
      },
      "outputs": [],
      "execution_count": null
    },
    {
      "id": "b1825c72-e114-4ad2-8bd6-976faff65560",
      "cell_type": "markdown",
      "source": "Q6. Explain the sort() method. Give an example to demonstrate sorting in MongoDB.",
      "metadata": {}
    },
    {
      "id": "0ccf555c-b4a6-4316-923a-b0b78b7ca2e4",
      "cell_type": "code",
      "source": "\"\"\"The sort() method in MongoDB is used to sort query results based on a specified field.\"\"\"\ndb.coll_create.find().sort({\"id\": 1})\n",
      "metadata": {
        "trusted": true
      },
      "outputs": [],
      "execution_count": null
    },
    {
      "id": "e847c587-267c-4d55-ab58-a2dc558c8025",
      "cell_type": "code",
      "source": "Q7. Explain why delete_one(), delete_many(), and drop() is used.",
      "metadata": {
        "trusted": true
      },
      "outputs": [],
      "execution_count": null
    }
  ]
}