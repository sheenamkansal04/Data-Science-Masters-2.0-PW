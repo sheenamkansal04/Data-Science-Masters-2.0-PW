{
  "metadata": {
    "kernelspec": {
      "name": "python",
      "display_name": "Python (Pyodide)",
      "language": "python"
    },
    "language_info": {
      "codemirror_mode": {
        "name": "python",
        "version": 3
      },
      "file_extension": ".py",
      "mimetype": "text/x-python",
      "name": "python",
      "nbconvert_exporter": "python",
      "pygments_lexer": "ipython3",
      "version": "3.8"
    }
  },
  "nbformat_minor": 5,
  "nbformat": 4,
  "cells": [
    {
      "id": "6344db6b-cfa2-402b-b529-a7acd9128851",
      "cell_type": "markdown",
      "source": "Q1. What is an API? Give an example, where an API is used in real life.",
      "metadata": {}
    },
    {
      "id": "133ba0be-cc73-4ecc-b54b-9bfc93ca0067",
      "cell_type": "markdown",
      "source": "Application Program Interface (API) is a set of rules that allows software applications to communicate with each other.  it acts as a bridge between the applications allowing them to send and receive the data without knowing the internal working of applications.\neg: Payment API, Google api in travel app",
      "metadata": {}
    },
    {
      "id": "ff14ee5d-aa21-409d-aa79-c6300c6dcc01",
      "cell_type": "markdown",
      "source": "Q2. Give advantages and disadvantages of using API.",
      "metadata": {}
    },
    {
      "id": "25394431-7f88-4442-995c-f3d9f4de54fd",
      "cell_type": "markdown",
      "source": "Advantages of using APIs:\n1. Easy Integration\n2. Faster Development\n3. Automation\n4. Enhanced Security\n5. Scalability and Flexibility\n\nDisadvantages of using APIS:\n1. Security Risks\n2. Depending on Third Party Services\n3. Latency and Performance issues\n4. Costs",
      "metadata": {}
    },
    {
      "id": "215364ac-991c-459c-8a0d-3f7a2312904b",
      "cell_type": "markdown",
      "source": "Q3. What is a Web API? Differentiate between API and Web API.",
      "metadata": {}
    },
    {
      "id": "ca0935b5-af39-497d-a7ab-f211e6f904c1",
      "cell_type": "markdown",
      "source": "Web Api is an API that allows the communication between the applications over the internet using HTTPs requests.\nWeb APIs are commonly used for retrieving, sending, updating, and deleting data between a client (e.g., web or mobile app) and a server.\n\nFeature\tAPI\tWeb API\nDefinition\tA set of rules for communication between software applications.\tA type of API that communicates over the web (HTTP/HTTPS).\nCommunication Medium\tCan work over various protocols (HTTP, TCP, FTP, etc.).\tWorks only over the web using HTTP requests.\nUsage\tUsed in operating systems, databases, and cloud services.\tUsed in web-based applications and cloud services.\nData Format\tCan use JSON, XML, Binary, etc.\tMostly uses JSON or XML for data exchange.\nExamples\tOS API (Windows, Linux), Library API (NumPy, Pandas)\tGoogle Maps API, Twitter API, YouTube API",
      "metadata": {}
    },
    {
      "id": "23eb093b-9faf-4059-b7d9-5ebd7e7e4eae",
      "cell_type": "markdown",
      "source": "Q4. Explain REST and SOAP Architecture. Mention shortcomings of SOAP.",
      "metadata": {}
    },
    {
      "id": "a1ef411b-cbbd-4d19-be71-81c37896f37a",
      "cell_type": "markdown",
      "source": "Both REST (Representational State Transfer) and SOAP (Simple Object Access Protocol) are used for communication between systems via APIs. \nREST is an architectural style that allows communication between systems over the HTTP protocol using standard methods like GET, POST, PUT, DELETE.\nSOAP is a protocol that allows applications to communicate using XML-based messaging over various protocols (HTTP, SMTP, TCP).\n\nShortcomings of SOAP:\n1. Complex and Heavy\n2. Slower Performance\n3. Less Compatible\n4. Difficult to implement",
      "metadata": {}
    }
  ]
}