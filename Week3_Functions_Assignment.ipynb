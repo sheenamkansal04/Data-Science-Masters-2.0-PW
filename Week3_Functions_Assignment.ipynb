{
  "metadata": {
    "kernelspec": {
      "name": "python",
      "display_name": "Python (Pyodide)",
      "language": "python"
    },
    "language_info": {
      "codemirror_mode": {
        "name": "python",
        "version": 3
      },
      "file_extension": ".py",
      "mimetype": "text/x-python",
      "name": "python",
      "nbconvert_exporter": "python",
      "pygments_lexer": "ipython3",
      "version": "3.8"
    }
  },
  "nbformat_minor": 5,
  "nbformat": 4,
  "cells": [
    {
      "id": "072ca8be-4865-4394-8435-9cb7e7ad26e1",
      "cell_type": "markdown",
      "source": "Q1. Which keyword is used to create a function? Create a function to return a list of odd numbers in the\nrange of 1 to 25.",
      "metadata": {}
    },
    {
      "id": "38dbfd5c-490e-4ecf-86b0-15e0d50c264a",
      "cell_type": "code",
      "source": "\"\"\"def is used to create a function\"\"\"\nlst1 = []\ndef odd_numbers(n):\n    for i in range(n):\n        if i%2 != 0:\n            lst1.append(i)\n    return lst1        \n    ",
      "metadata": {
        "trusted": true
      },
      "outputs": [],
      "execution_count": null
    },
    {
      "id": "2a0d0bce-05ed-4875-aedb-1050078988b5",
      "cell_type": "markdown",
      "source": "Q2. Why *args and **kwargs is used in some functions? Create a function each for *args and **kwargs to\ndemonstrate their use.",
      "metadata": {}
    },
    {
      "id": "3bff480e-e9e2-49a0-9470-e7e52c10eda8",
      "cell_type": "code",
      "source": "\"\"\"*args allows function to accept any number of positional arguments. **kwargs allows function to accept andy number of key value pair arguments\"\"\"\n\ndef test_args(*args):\n    return args\n\ndef test_kwargs(**kwargs):\n    return kwargs",
      "metadata": {
        "trusted": true
      },
      "outputs": [],
      "execution_count": null
    },
    {
      "id": "03d6501b-8afb-425a-aabb-bca3c4aa4f0a",
      "cell_type": "markdown",
      "source": "Q3. What is an iterator in python? Name the method used to initialise the iterator object and the method\nused for iteration. Use these methods to print the first five elements of the given list [2, 4, 6, 8, 10, 12, 14, 16,\n18, 20].",
      "metadata": {}
    },
    {
      "id": "1651ef03-084b-4bd5-ab11-904d1bf278b8",
      "cell_type": "code",
      "source": "\"\"\"Iterator is an object in python that stores a sequence of elements and allows you to iterate over it without storing it in the memory.\"\"\"\n\n\"\"\"__iter__() → Initializes the iterator object and returns it.\n__next__() → Returns the next value from the iterator. If there are no more values, it raises StopIteration.\"\"\"\n\nlst1 = [2,4,6,8,10,12,14,16,18,20]\niterator_1 = iter(lst1)\n\nprint(next(iterator_1))\nprint(next(iterator_1))\nprint(next(iterator_1))\nprint(next(iterator_1))\nprint(next(iterator_1))\n",
      "metadata": {
        "trusted": true
      },
      "outputs": [],
      "execution_count": null
    },
    {
      "id": "107d8fae-edc8-48cb-ab5a-cff095cd5c7c",
      "cell_type": "markdown",
      "source": "Q4. What is a generator function in python? Why yield keyword is used? Give an example of a generator\nfunction.",
      "metadata": {}
    },
    {
      "id": "15a4356e-b280-4ee5-89fd-c61fc7eb9b76",
      "cell_type": "code",
      "source": "\"\"\"Genrator functions are special type of iterables that allow you to generate values on the fly instead of storing in the menory\"\"\"\n\"\"\"These generator functions are defined using functions with the yield keyword\"\"\"\n\ndef count_numbers(n):\n    while n>0:\n        yield n\n        n-=1\n\nfor num in count_numbers(5):\n    print(num)",
      "metadata": {
        "trusted": true
      },
      "outputs": [],
      "execution_count": null
    },
    {
      "id": "12d99603-d251-485e-a386-081adf296202",
      "cell_type": "markdown",
      "source": "Q5. Create a generator function for prime numbers less than 1000. Use the next() method to print the\nfirst 20 prime numbers.",
      "metadata": {}
    },
    {
      "id": "f0665f10-ccfc-40aa-a358-bf4e249eeb14",
      "cell_type": "code",
      "source": "import math\n\ndef prime_generator():\n    \"\"\"Yields prime numbers less than 1000\"\"\"\n    for num in range(2, 1000):  # Start from 2 (first prime)\n        if all(num % i != 0 for i in range(2, int(math.sqrt(num)) + 1)):\n            yield num  # Yield prime number\n\n# Create generator object\ngen = prime_generator()\n\n# Print first 20 prime numbers using next()\nfor _ in range(20):\n    print(next(gen), end=\" \")",
      "metadata": {
        "trusted": true
      },
      "outputs": [],
      "execution_count": null
    }
  ]
}