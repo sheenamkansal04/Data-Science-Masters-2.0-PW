{
  "metadata": {
    "kernelspec": {
      "name": "python",
      "display_name": "Python (Pyodide)",
      "language": "python"
    },
    "language_info": {
      "codemirror_mode": {
        "name": "python",
        "version": 3
      },
      "file_extension": ".py",
      "mimetype": "text/x-python",
      "name": "python",
      "nbconvert_exporter": "python",
      "pygments_lexer": "ipython3",
      "version": "3.8"
    }
  },
  "nbformat_minor": 5,
  "nbformat": 4,
  "cells": [
    {
      "id": "5b5efb7a-5fdf-460d-b3c4-b038e5c1ffbc",
      "cell_type": "markdown",
      "source": "Q1. What is multiprocessing in python? Why is it useful?",
      "metadata": {}
    },
    {
      "id": "0ad8c4cd-4635-4cca-93c0-e6a629667133",
      "cell_type": "markdown",
      "source": "Multiprocessing is a Python module that allows multiple processes to run in parallel.\n1️⃣ 🚀 True Parallelism\n\nUnlike multithreading (which is limited by GIL), multiprocessing runs multiple processes on different CPU cores, making it ideal for CPU-heavy tasks.\n2️⃣ ⚡ Better CPU Utilization\n\nIf a system has multiple cores, multiprocessing allows efficient distribution of work across them.\n3️⃣ 🛑 Bypasses GIL (Global Interpreter Lock)\n\nSince each process runs in its own memory space, it is not restricted by Python’s GIL.\n4️⃣ 📊 Ideal for CPU-Bound Tasks\n\nTasks like image processing, mathematical computations, and scientific simulations perform much better with multiprocessing.\n5️⃣ 🔄 No Race Conditions\n\nUnlike threads, processes do not share memory by default, reducing risks of race conditions and deadlocks.",
      "metadata": {}
    },
    {
      "id": "1886c670-482f-4dec-9314-57e1442404f5",
      "cell_type": "markdown",
      "source": "Q2. What are the differences between multiprocessing and multithreading?",
      "metadata": {}
    },
    {
      "id": "2cceb238-cfea-4d16-b15b-c5b08dc6f1ab",
      "cell_type": "markdown",
      "source": "Feature\tMultiprocessing 🖥️\tMultithreading 🧵\nDefinition\tRuns multiple processes in separate memory spaces\tRuns multiple threads within the same process (shared memory)\nParallelism\t✅ True parallelism (uses multiple CPU cores)\t❌ Limited by GIL (one thread runs at a time)\nBest For\t✅ CPU-bound tasks (e.g., heavy computations, image processing)\t✅ I/O-bound tasks (e.g., file handling, network requests)\nMemory Usage\t❌ High (each process has its own memory)\t✅ Low (threads share memory)\nSpeed\t🚀 Faster for CPU-intensive tasks\t⚡ Faster for I/O-bound tasks\nData Sharing\t❌ Difficult (need inter-process communication like multiprocessing.Queue())\t✅ Easy (shared memory)\nRisk of Race Conditions\t❌ No race conditions (separate memory)\t⚠️ Yes (threads can interfere with shared data)\nGIL Impact\t✅ Bypasses GIL (each process runs independently)\t❌ Affected by GIL (only one thread runs Python bytecode at a time)\nOverhead\t❌ High (process creation takes time)\t✅ Low (lightweight thread creation)\nFailure Impact\t❌ One process failure doesn't crash others\t⚠️ One thread failure can crash the entire process\nDebugging\t❌ Harder (processes don’t share memory)\t✅ Easier (shared memory makes debugging simpler)",
      "metadata": {}
    },
    {
      "id": "8adb8d07-f4e7-419d-8e16-96772fe79ca0",
      "cell_type": "markdown",
      "source": "Q3. Write a python code to create a process using the multiprocessing module.",
      "metadata": {}
    },
    {
      "id": "19308ed9-21d7-4a78-bd51-a9d8ac382272",
      "cell_type": "code",
      "source": "import multiprocessing\n\nif __name__ == \"__main__\":\n    m = mutiprocessing.Process(target = \"abc\", args = (i,))\n    m.start()\n    m.join()\n    ",
      "metadata": {
        "trusted": true
      },
      "outputs": [],
      "execution_count": null
    },
    {
      "id": "eb35a4e5-3209-4fea-aafc-227ca0accc42",
      "cell_type": "markdown",
      "source": "Q4. What is a multiprocessing pool in python? Why is it used?",
      "metadata": {}
    },
    {
      "id": "d8c12cb8-86d8-474e-bc1f-d15078896a29",
      "cell_type": "markdown",
      "source": "A Multiprocessing Pool in Python is a mechanism that manages a pool of worker processes to execute tasks in parallel. Instead of manually creating and managing multiple processes, the multiprocessing.Pool class allows us to distribute tasks across multiple CPU cores efficiently.\n\n✅ Simplifies process management – No need to manually create and manage multiple processes.\n✅ Efficient CPU Utilization – Automatically distributes tasks across multiple CPU cores.\n✅ Supports Parallel Execution – Allows running multiple tasks at the same time.\n✅ Reduces Overhead – Reuses worker processes instead of creating/destroying new ones.\n✅ Built-in Methods – Supports map(), apply(), starmap(), and apply_async() for parallel execution.\n\n",
      "metadata": {}
    },
    {
      "id": "9ffd1d63-bc97-4189-99b3-efb720075672",
      "cell_type": "markdown",
      "source": "Q5. How can we create a pool of worker processes in python using the multiprocessing module?",
      "metadata": {}
    },
    {
      "id": "9aea2905-12df-442e-a00b-c8364fc22721",
      "cell_type": "code",
      "source": "import multi[processing\n\ndef square(n):\n    return n**2\n\nif __name__ == \"__main__\":\n    with mutiprocessing.pool(process = 5):\n        output = pool.map(square, [1,2,3])",
      "metadata": {
        "trusted": true
      },
      "outputs": [],
      "execution_count": null
    },
    {
      "id": "2e8ab802-f7dd-413d-9bfe-1bb91c6d8de2",
      "cell_type": "code",
      "source": "",
      "metadata": {
        "trusted": true
      },
      "outputs": [],
      "execution_count": null
    },
    {
      "id": "8c4074a7-8f84-4b6a-a835-736da95a4cef",
      "cell_type": "markdown",
      "source": "Q6. Write a python program to create 4 processes, each process should print a different number using the\nmultiprocessing module in python.",
      "metadata": {}
    },
    {
      "id": "fa4f00d8-bd9d-4f6a-8aca-19df27b17e21",
      "cell_type": "code",
      "source": "import multiprocessing\n\ndef print_number(n):\n    \"\"\"Function to print a given number\"\"\"\n    print(f\"Process {multiprocessing.current_process().name} - Number: {n}\")\n\nif __name__ == \"__main__\":\n    numbers = [10, 20, 30, 40]  # Numbers to print\n    processes = []\n\n    # Creating 4 processes\n    for i in range(4):\n        p = multiprocessing.Process(target=print_number, args=(numbers[i],), name=f\"Process-{i+1}\")\n        processes.append(p)\n        p.start()\n\n    # Waiting for all processes to complete\n    for p in processes:\n        p.join()\n\n    print(\"Main process finished.\")",
      "metadata": {
        "trusted": true
      },
      "outputs": [],
      "execution_count": null
    }
  ]
}